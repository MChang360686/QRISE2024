{
 "cells": [
  {
   "cell_type": "markdown",
   "metadata": {},
   "source": [
    "Initial notebook for the Unitary Fund's QRISE 2024 challenge \n",
    "\n",
    "\n",
    "Unitary Fund mitiq GitHub\n",
    "https://github.com/unitaryfund/mitiq?tab=readme-ov-file\n",
    "\n",
    "Qiskit Documentation\n",
    "https://docs.quantum.ibm.com/\n",
    "\n",
    "Cirq Documentation\n",
    "https://quantumai.google/cirq/start/basics\n",
    "\n",
    "TODO: Get running\n",
    "\n"
   ]
  },
  {
   "cell_type": "markdown",
   "metadata": {},
   "source": [
    "Basic ZNE using Cirq\n"
   ]
  },
  {
   "cell_type": "code",
   "execution_count": 8,
   "metadata": {},
   "outputs": [
    {
     "name": "stderr",
     "output_type": "stream",
     "text": [
      "c:\\Users\\readi\\AppData\\Local\\Programs\\Python\\Python310\\lib\\site-packages\\mitiq\\zne\\inference.py:96: UserWarning: The input circuit is very short. This may reduce the accuracy of noise scaling.\n",
      "  warnings.warn(\n",
      "c:\\Users\\readi\\AppData\\Local\\Programs\\Python\\Python310\\lib\\site-packages\\scipy\\optimize\\_minpack_py.py:906: ExtrapolationWarning: The extrapolation fit may be ill-conditioned. Likely, more data points are necessary to fit the parameters of the model.\n",
      "  warnings.warn('Covariance of the parameters could not be estimated',\n"
     ]
    },
    {
     "data": {
      "text/plain": [
       "0.14716213167905273"
      ]
     },
     "execution_count": 8,
     "metadata": {},
     "output_type": "execute_result"
    }
   ],
   "source": [
    "import mitiq\n",
    "from mitiq.zne.inference import RichardsonFactory, LinearFactory, ExpFactory\n",
    "import cirq\n",
    "frontend=\"cirq\"\n",
    "\n",
    "def execute(circuit, noise_level=0.005):\n",
    "    \"\"\"Returns Tr[ρ |0⟩⟨0|] where ρ is the state prepared by the circuit\n",
    "    with depolarizing noise.\"\"\"\n",
    "\n",
    "    # add depolarizing noise\n",
    "    noisy_circuit = circuit.with_noise(cirq.depolarize(p=noise_level))\n",
    "\n",
    "    return (\n",
    "        cirq.DensityMatrixSimulator()\n",
    "        .simulate(noisy_circuit)\n",
    "        .final_density_matrix[0, 0]\n",
    "        .real\n",
    "    )\n",
    "\n",
    "a, b, c = cirq.LineQubit.range(3)\n",
    "\n",
    "circuit = cirq.Circuit(\n",
    "    cirq.H(a),\n",
    "    cirq.CNOT(a, b),\n",
    "    cirq.CNOT(b, c),\n",
    "    cirq.S(a),\n",
    ")\n",
    "\n",
    "factory = ExpFactory([1, 4, 7])\n",
    "\n",
    "factory.run(circuit, execute)\n",
    "factory.reduce()"
   ]
  },
  {
   "cell_type": "code",
   "execution_count": null,
   "metadata": {},
   "outputs": [],
   "source": [
    "factory.plot_fit()"
   ]
  },
  {
   "cell_type": "markdown",
   "metadata": {},
   "source": [
    "DDD with mitiq\n"
   ]
  },
  {
   "cell_type": "code",
   "execution_count": 9,
   "metadata": {},
   "outputs": [
    {
     "data": {
      "text/plain": [
       "0.01561956200748682"
      ]
     },
     "execution_count": 9,
     "metadata": {},
     "output_type": "execute_result"
    }
   ],
   "source": [
    "from mitiq.benchmarks import generate_ghz_circuit\n",
    "from mitiq import ddd\n",
    "\n",
    "\n",
    "num_qubits = 6\n",
    "ghz = generate_ghz_circuit(num_qubits)\n",
    "\n",
    "#print(ghz)\n",
    "ddd.insert_ddd_sequences(ghz, rule=ddd.rules.xx)\n",
    "ddd.execute_with_ddd(ghz, execute, rule=ddd.rules.xx)"
   ]
  }
 ],
 "metadata": {
  "kernelspec": {
   "display_name": "Python 3",
   "language": "python",
   "name": "python3"
  },
  "language_info": {
   "codemirror_mode": {
    "name": "ipython",
    "version": 3
   },
   "file_extension": ".py",
   "mimetype": "text/x-python",
   "name": "python",
   "nbconvert_exporter": "python",
   "pygments_lexer": "ipython3",
   "version": "3.10.8"
  }
 },
 "nbformat": 4,
 "nbformat_minor": 2
}
