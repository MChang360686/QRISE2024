{
 "cells": [
  {
   "cell_type": "markdown",
   "metadata": {},
   "source": [
    "Initial notebook for the Unitary Fund's QRISE 2024 challenge \n",
    "\n",
    "\n",
    "Unitary Fund mitiq GitHub\n",
    "https://github.com/unitaryfund/mitiq?tab=readme-ov-file\n",
    "\n",
    "Qiskit Documentation\n",
    "https://docs.quantum.ibm.com/\n",
    "\n",
    "Cirq Documentation\n",
    "https://quantumai.google/cirq/start/basics\n",
    "\n",
    "mitiq Documentation\n",
    "https://github.com/natestemen/talks/blob/main/2024-03-13-qrise/demo.ipynb\n",
    "\n",
    "\n",
    "\n",
    "TODO: Write a function to run ZNE 3 times on a circuit, Attempt PEC\n",
    "\n"
   ]
  },
  {
   "cell_type": "markdown",
   "metadata": {},
   "source": [
    "Basic ZNE using Cirq\n"
   ]
  },
  {
   "cell_type": "code",
   "execution_count": 1,
   "metadata": {},
   "outputs": [
    {
     "name": "stdout",
     "output_type": "stream",
     "text": [
      "control: 0.24999997019767756\n",
      "first: 0.25063232084115356\n",
      "second: 0.24677691857020054\n",
      "third: 0.25116171733901704\n",
      "avg: 0.2495236522501237\n",
      "error 1 = 0.0006323506434759985 error 2 = 0.0032230516274770193 error 3 = 0.0011617471413394864 error tzne = 0.0004763179475538448\n"
     ]
    }
   ],
   "source": [
    "import mitiq\n",
    "from mitiq.zne.inference import RichardsonFactory, LinearFactory, ExpFactory\n",
    "import cirq\n",
    "import warnings\n",
    "\n",
    "warnings.filterwarnings('ignore')\n",
    "frontend=\"cirq\"\n",
    "\n",
    "def execute(circuit, noise_level=0.005):\n",
    "    \"\"\"Returns Tr[ρ |0⟩⟨0|] where ρ is the state prepared by the circuit\n",
    "    with depolarizing noise.\"\"\"\n",
    "\n",
    "    # add depolarizing noise\n",
    "    noisy_circuit = circuit.with_noise(cirq.depolarize(p=noise_level))\n",
    "\n",
    "    return (\n",
    "        cirq.DensityMatrixSimulator()\n",
    "        .simulate(noisy_circuit)\n",
    "        .final_density_matrix[0, 0]\n",
    "        .real\n",
    "    )\n",
    "\n",
    "def execute_no_noise(circuit):\n",
    "    return (\n",
    "        cirq.DensityMatrixSimulator()\n",
    "        .simulate(circuit)\n",
    "        .final_density_matrix[0, 0]\n",
    "        .real\n",
    "    )\n",
    "\n",
    "a, b, c = cirq.LineQubit.range(3)\n",
    "\n",
    "circuit = cirq.Circuit(\n",
    "    cirq.H(a),\n",
    "    cirq.CNOT(a, b),\n",
    "    cirq.CNOT(b, c),\n",
    "    cirq.S(a),\n",
    "    cirq.H(a),\n",
    "    cirq.CNOT(a, b),\n",
    "    cirq.CNOT(b, c),\n",
    "    cirq.S(a),\n",
    ")\n",
    "\n",
    "factory = LinearFactory([1, 4, 7])\n",
    "factory.run(circuit, execute_no_noise)\n",
    "control = factory.reduce()\n",
    "\n",
    "factory = RichardsonFactory([1, 4, 7])\n",
    "factory.run(circuit, execute)\n",
    "first = factory.reduce()\n",
    "\n",
    "factory = LinearFactory([1, 4, 7])\n",
    "factory.run(circuit, execute)\n",
    "second = factory.reduce()\n",
    "\n",
    "factory = ExpFactory([1, 4, 7])\n",
    "factory.run(circuit, execute)\n",
    "third = factory.reduce()\n",
    "\n",
    "triple_zne = (first + second + third) / 3\n",
    "\n",
    "print(f\"control: {control}\")\n",
    "print(f\"first: {first}\")\n",
    "print(f\"second: {second}\")\n",
    "print(f\"third: {third}\")\n",
    "print(f\"avg: {triple_zne}\")\n",
    "print(f\"error 1 = {abs(control - first)} error 2 = {abs(control - second)} error 3 = {abs(control - third)} error tzne = {abs(control - triple_zne)}\")"
   ]
  },
  {
   "cell_type": "code",
   "execution_count": null,
   "metadata": {},
   "outputs": [],
   "source": [
    "import matplotlib as plt"
   ]
  },
  {
   "cell_type": "markdown",
   "metadata": {},
   "source": [
    "What if we made a function to let a user choose whether to use Richardson, Linear, or Exp (can be expanded to include others) three times instead of using three different fit methods?"
   ]
  },
  {
   "cell_type": "code",
   "execution_count": 28,
   "metadata": {},
   "outputs": [
    {
     "name": "stdout",
     "output_type": "stream",
     "text": [
      "control: 0.24999997019767756\n",
      "first: 0.24677684406439465\n",
      "second: 0.2463643799225489\n",
      "third: 0.24740614990393328\n",
      "avg: 0.24684912463029227\n",
      "error 1 = 0.0032231261332829053 error 2 = 0.003635590275128664error 3 = 0.0025938202937442756 error tzne = 0.003150845567385291\n"
     ]
    }
   ],
   "source": [
    "import mitiq\n",
    "from mitiq.zne.inference import RichardsonFactory, LinearFactory, ExpFactory\n",
    "import cirq\n",
    "frontend=\"cirq\"\n",
    "\n",
    "\n",
    "def execute_no_noise(circuit):\n",
    "    return (\n",
    "        cirq.DensityMatrixSimulator()\n",
    "        .simulate(circuit)\n",
    "        .final_density_matrix[0, 0]\n",
    "        .real\n",
    "    )\n",
    "\n",
    "a, b, c = cirq.LineQubit.range(3)\n",
    "\n",
    "circuit = cirq.Circuit(\n",
    "    cirq.H(a),\n",
    "    cirq.CNOT(a, b),\n",
    "    cirq.CNOT(b, c),\n",
    "    cirq.S(a),\n",
    "    cirq.H(a),\n",
    "    cirq.CNOT(a, b),\n",
    "    cirq.CNOT(b, c),\n",
    "    cirq.S(a),\n",
    ")\n",
    "\n",
    "def execute(circuit, noise_level=0.005):\n",
    "    noisy_circuit = circuit.with_noise(cirq.depolarize(p=noise_level))\n",
    "\n",
    "    return (\n",
    "        cirq.DensityMatrixSimulator()\n",
    "        .simulate(noisy_circuit)\n",
    "        .final_density_matrix[0, 0]\n",
    "        .real\n",
    "    )\n",
    "\n",
    "\n",
    "factory = LinearFactory([1, 4, 7])\n",
    "factory.run(circuit, execute_no_noise)\n",
    "control = factory.reduce()\n",
    "\n",
    "factory = LinearFactory([1, 4, 7])\n",
    "factory.run(circuit, execute)\n",
    "first = factory.reduce()\n",
    "\n",
    "factory = LinearFactory([1, 4, 7])\n",
    "factory.run(circuit, execute)\n",
    "second = factory.reduce()\n",
    "\n",
    "factory = LinearFactory([1, 4, 7])\n",
    "factory.run(circuit, execute)\n",
    "third = factory.reduce()\n",
    "\n",
    "triple_zne = (first + second + third) / 3\n",
    "\n",
    "print(f\"control: {control}\")\n",
    "print(f\"first: {first}\")\n",
    "print(f\"second: {second}\")\n",
    "print(f\"third: {third}\")\n",
    "print(f\"avg: {triple_zne}\")\n",
    "print(f\"error 1 = {abs(control - first)} error 2 = {abs(control - second)}\" \\\n",
    "       f\"error 3 = {abs(control - third)} error tzne = {abs(control - triple_zne)}\")"
   ]
  },
  {
   "cell_type": "markdown",
   "metadata": {},
   "source": [
    "Instead of using all 3, what if we write a function to let a user choose which fitting method is used?"
   ]
  },
  {
   "cell_type": "code",
   "execution_count": 8,
   "metadata": {},
   "outputs": [
    {
     "name": "stdout",
     "output_type": "stream",
     "text": [
      "0.24783268570899955\n",
      "0.4939928650856017\n",
      "0.7416115701198576\n",
      "ideal circuit: 0.2499999701976776\n",
      "normal noise: 0.24113260209560394\n",
      "single zne: 0.24999997019767756\n",
      "triple zne: 0.24720385670661918\n",
      "error w/o mitigation: 0.00886736810207367\n",
      "error with single zne: 5.551115123125783e-17\n",
      "error with t_zne: 0.002796113491058433\n"
     ]
    }
   ],
   "source": [
    "import mitiq\n",
    "from mitiq.zne.inference import RichardsonFactory, LinearFactory, ExpFactory\n",
    "import cirq\n",
    "\n",
    "frontend=\"cirq\"\n",
    "\n",
    "a, b, c = cirq.LineQubit.range(3)\n",
    "\n",
    "c = cirq.Circuit(\n",
    "    cirq.H(a),\n",
    "    cirq.CNOT(a, b),\n",
    "    cirq.CNOT(b, c),\n",
    "    cirq.S(a),\n",
    "    cirq.H(a),\n",
    "    cirq.CNOT(a, b),\n",
    "    cirq.CNOT(b, c),\n",
    "    cirq.S(a),\n",
    ")\n",
    "\n",
    "def execute_no_noise(circuit):\n",
    "    return (\n",
    "        cirq.DensityMatrixSimulator()\n",
    "        .simulate(circuit)\n",
    "        .final_density_matrix[0, 0]\n",
    "        .real\n",
    "    )\n",
    "\n",
    "def execute(circuit, noise_level=0.005):\n",
    "    noisy_circuit = circuit.with_noise(cirq.depolarize(p=noise_level))\n",
    "\n",
    "    return (\n",
    "        cirq.DensityMatrixSimulator()\n",
    "        .simulate(noisy_circuit)\n",
    "        .final_density_matrix[0, 0]\n",
    "        .real\n",
    "    )\n",
    "\n",
    "def zne(circuit):\n",
    "    factory = LinearFactory([1, 4, 7])\n",
    "    factory.run(circuit, execute_no_noise)\n",
    "    return factory.reduce()\n",
    "\n",
    "def execute_t_zne(circuit, factory_type):\n",
    "    sum = 0\n",
    "    match(factory_type):\n",
    "        case 'l':\n",
    "            for i in range(0, 3):\n",
    "                factory = LinearFactory([1, 4, 7])\n",
    "                factory.run(circuit, execute)\n",
    "                sum += factory.reduce()\n",
    "                print(sum)\n",
    "            return sum / 3\n",
    "        case 'e':\n",
    "            for i in range(0, 3):\n",
    "                factory = ExpFactory([1, 4, 7])\n",
    "                factory.run(circuit, execute)\n",
    "                sum += factory.reduce()\n",
    "                print(sum)\n",
    "            return sum / 3\n",
    "        case 'r':\n",
    "            for i in range(0, 3):\n",
    "                factory = RichardsonFactory([1, 4, 7])\n",
    "                factory.run(circuit, execute)\n",
    "                sum += factory.reduce()\n",
    "                print(sum)\n",
    "            return sum / 3\n",
    "\n",
    "zne_factory_type = input(\"Please enter a fitting method (l, e, r)\")\n",
    "control_no_noise = execute_no_noise(c)\n",
    "control_noise = execute(c)\n",
    "zne_single = zne(c)\n",
    "t_zne = execute_t_zne(c, zne_factory_type)\n",
    "print(f\"ideal circuit: {control_no_noise}\")\n",
    "print(f'normal noise: {control_noise}')\n",
    "print(f'single zne: {zne_single}')\n",
    "print(f'triple zne: {t_zne}')\n",
    "print(f'error w/o mitigation: {abs(control_no_noise - control_noise)}')\n",
    "print(f'error with single zne: {abs(control_no_noise - zne_single)}')\n",
    "print(f'error with t_zne: {abs(control_no_noise - t_zne)}')"
   ]
  },
  {
   "cell_type": "markdown",
   "metadata": {},
   "source": [
    "Graph Results\n",
    "\n",
    "We chose to make a line graph to show how closely repeating ZNE 3 times and averaging out the resulting value fit with the ideal value.\n",
    "\n",
    "Unfortunately, even if there was a slight increase in cell 6, it seems relatively random, and cell 7 seems to show that it's better to just use ZNE once.  Perhaps this is because more executions means more chances to have errors from noise?"
   ]
  },
  {
   "cell_type": "code",
   "execution_count": null,
   "metadata": {},
   "outputs": [],
   "source": [
    "import matplotlib as plt\n"
   ]
  },
  {
   "cell_type": "markdown",
   "metadata": {},
   "source": [
    "DDD with mitiq\n"
   ]
  },
  {
   "cell_type": "code",
   "execution_count": 6,
   "metadata": {},
   "outputs": [
    {
     "data": {
      "text/plain": [
       "0.4451800286769867"
      ]
     },
     "execution_count": 6,
     "metadata": {},
     "output_type": "execute_result"
    }
   ],
   "source": [
    "from mitiq.benchmarks import generate_ghz_circuit\n",
    "from mitiq import ddd\n",
    "\n",
    "\n",
    "num_qubits = 6\n",
    "ghz = generate_ghz_circuit(num_qubits)\n",
    "\n",
    "#print(ghz)\n",
    "ddd.insert_ddd_sequences(ghz, rule=ddd.rules.xx)\n",
    "ddd.execute_with_ddd(ghz, execute, rule=ddd.rules.xx)"
   ]
  },
  {
   "cell_type": "markdown",
   "metadata": {},
   "source": [
    "What about DDD plus ZNE?  What if we triple this up?\n",
    "\n",
    "After testing, tripling ZNE up doesn't seem to impart improvement.  Additionally, it would seem that similar to Triple ZNE, more tests (or averaging) means more noise and therefore less accurate results."
   ]
  },
  {
   "cell_type": "code",
   "execution_count": 31,
   "metadata": {},
   "outputs": [
    {
     "name": "stdout",
     "output_type": "stream",
     "text": [
      "0.24999997\n",
      "0.2498570270836352\n",
      "0.00014294311404242088\n",
      "0.24496387223189217\n",
      "0.005036097965785441\n"
     ]
    }
   ],
   "source": [
    "from mitiq import zne\n",
    "from mitiq.zne.scaling import fold_global, fold_gates_at_random, insert_id_layers\n",
    "from mitiq import ddd\n",
    "\n",
    "# Circuit\n",
    "a, b, c = cirq.LineQubit.range(3)\n",
    "cir = cirq.Circuit(\n",
    "    cirq.H(a),\n",
    "    cirq.CNOT(a, b),\n",
    "    cirq.CNOT(b, c),\n",
    "    cirq.S(a),\n",
    "    cirq.H(a),\n",
    "    cirq.CNOT(a, b),\n",
    "    cirq.CNOT(b, c),\n",
    "    cirq.S(a),\n",
    ")\n",
    "\n",
    "# Control\n",
    "control = execute_no_noise(cir)\n",
    "print(control)\n",
    "\n",
    "# Demo example\n",
    "@ddd.ddd_decorator(rule=ddd.rules.xyxy)\n",
    "@zne.zne_decorator(factory=RichardsonFactory([1, 3, 7]), scale_noise=insert_id_layers)\n",
    "def new_execute(circuit):\n",
    "    return execute(circuit)\n",
    "\n",
    "ddd_zne = new_execute(cir)\n",
    "print(ddd_zne)\n",
    "print(abs(control - ddd_zne))\n",
    "\n",
    "# Takes longer\n",
    "@ddd.ddd_decorator(rule=ddd.rules.xyxy)\n",
    "@zne.zne_decorator(factory=RichardsonFactory([1, 3, 7]), scale_noise=insert_id_layers)\n",
    "@zne.zne_decorator(factory=RichardsonFactory([1, 3, 7]), scale_noise=insert_id_layers)\n",
    "@zne.zne_decorator(factory=RichardsonFactory([1, 3, 7]), scale_noise=insert_id_layers)\n",
    "def new_execute(circuit):\n",
    "    return execute(circuit)\n",
    "\n",
    "ddd_3zne = new_execute(cir)\n",
    "print(ddd_3zne)\n",
    "print(abs(control - ddd_3zne))"
   ]
  },
  {
   "cell_type": "markdown",
   "metadata": {},
   "source": [
    "Idea: What if we write QRNG for Probabilistic Error Cancelation?  Would it even be possible to stack PEC with other methods?\n",
    "\n",
    "Code taken from https://github.com/navaro1/quantum-gacek-cirq/blob/main/randomness/bit_qubit_h.py#L3"
   ]
  },
  {
   "cell_type": "code",
   "execution_count": 24,
   "metadata": {},
   "outputs": [
    {
     "name": "stdout",
     "output_type": "stream",
     "text": [
      "[1 0 1]\n"
     ]
    }
   ],
   "source": [
    "import cirq\n",
    "import numpy as np\n",
    "\n",
    "class QuantumRandomNumberGenerator:\n",
    "    measurement_gate_name = 'qrng_measure'\n",
    "    qubit_name_prefix = 'qrng_'\n",
    "\n",
    "    def __init__(self, simulator=None):\n",
    "        if simulator is None:\n",
    "            simulator = cirq.Simulator()\n",
    "        self.simulator = simulator\n",
    "\n",
    "    def generate_binary_array(self, length: int) -> np.ndarray:\n",
    "        qubits = cirq.NamedQubit.range(length, prefix=QuantumRandomNumberGenerator.qubit_name_prefix)\n",
    "        h_gates = [cirq.H(qubit) for qubit in qubits]\n",
    "        measurement_gate = cirq.measure(qubits, key=QuantumRandomNumberGenerator.measurement_gate_name)\n",
    "        qrng_circuit = cirq.Circuit(h_gates, measurement_gate)\n",
    "        result = self.simulator.simulate(qrng_circuit)\n",
    "        return result.measurements[QuantumRandomNumberGenerator.measurement_gate_name]\n",
    "    \n",
    "\n",
    "qrng = QuantumRandomNumberGenerator()\n",
    "print(qrng.generate_binary_array(length=3))"
   ]
  },
  {
   "cell_type": "markdown",
   "metadata": {},
   "source": [
    "Now, let's try PEC with ZNE and/or DDD"
   ]
  },
  {
   "cell_type": "code",
   "execution_count": null,
   "metadata": {},
   "outputs": [],
   "source": [
    "import cirq\n",
    "from mitiq import zne, ddd, pec\n"
   ]
  }
 ],
 "metadata": {
  "kernelspec": {
   "display_name": "Python 3",
   "language": "python",
   "name": "python3"
  },
  "language_info": {
   "codemirror_mode": {
    "name": "ipython",
    "version": 3
   },
   "file_extension": ".py",
   "mimetype": "text/x-python",
   "name": "python",
   "nbconvert_exporter": "python",
   "pygments_lexer": "ipython3",
   "version": "3.10.8"
  }
 },
 "nbformat": 4,
 "nbformat_minor": 2
}
