{
 "cells": [
  {
   "cell_type": "markdown",
   "metadata": {},
   "source": [
    "Initial notebook for the Unitary Fund's QRISE 2024 challenge \n",
    "\n",
    "\n",
    "Unitary Fund mitiq GitHub\n",
    "https://github.com/unitaryfund/mitiq?tab=readme-ov-file\n",
    "\n",
    "Qiskit Documentation\n",
    "https://docs.quantum.ibm.com/\n",
    "\n",
    "Cirq Documentation\n",
    "https://quantumai.google/cirq/start/basics\n",
    "\n",
    "mitiq Documentation\n",
    "https://github.com/natestemen/talks/blob/main/2024-03-13-qrise/demo.ipynb\n",
    "\n",
    "\n",
    "\n",
    "TODO: Get running\n",
    "\n"
   ]
  },
  {
   "cell_type": "markdown",
   "metadata": {},
   "source": [
    "Basic ZNE using Cirq\n"
   ]
  },
  {
   "cell_type": "code",
   "execution_count": 10,
   "metadata": {},
   "outputs": [
    {
     "name": "stderr",
     "output_type": "stream",
     "text": [
      "c:\\Users\\readi\\AppData\\Local\\Programs\\Python\\Python310\\lib\\site-packages\\mitiq\\zne\\inference.py:96: UserWarning: The input circuit is very short. This may reduce the accuracy of noise scaling.\n",
      "  warnings.warn(\n",
      "c:\\Users\\readi\\AppData\\Local\\Programs\\Python\\Python310\\lib\\site-packages\\mitiq\\zne\\inference.py:96: UserWarning: The input circuit is very short. This may reduce the accuracy of noise scaling.\n",
      "  warnings.warn(\n",
      "c:\\Users\\readi\\AppData\\Local\\Programs\\Python\\Python310\\lib\\site-packages\\mitiq\\zne\\inference.py:96: UserWarning: The input circuit is very short. This may reduce the accuracy of noise scaling.\n",
      "  warnings.warn(\n",
      "c:\\Users\\readi\\AppData\\Local\\Programs\\Python\\Python310\\lib\\site-packages\\mitiq\\zne\\inference.py:96: UserWarning: The input circuit is very short. This may reduce the accuracy of noise scaling.\n",
      "  warnings.warn(\n"
     ]
    },
    {
     "name": "stdout",
     "output_type": "stream",
     "text": [
      "control: 0.4999999867545234\n",
      "first: 0.5019015371799469\n",
      "second: 0.49546728531519574\n",
      "third: 0.5041378142952675\n",
      "avg: 0.50050221226347\n",
      "error 1 = 0.0019015504254235038 error 2 = 0.004532701439327658 error 3 = 0.004137827540744099 error tzne = 0.0005022255089466299\n"
     ]
    },
    {
     "name": "stderr",
     "output_type": "stream",
     "text": [
      "c:\\Users\\readi\\AppData\\Local\\Programs\\Python\\Python310\\lib\\site-packages\\scipy\\optimize\\_minpack_py.py:906: ExtrapolationWarning: The extrapolation fit may be ill-conditioned. Likely, more data points are necessary to fit the parameters of the model.\n",
      "  warnings.warn('Covariance of the parameters could not be estimated',\n"
     ]
    }
   ],
   "source": [
    "import mitiq\n",
    "from mitiq.zne.inference import RichardsonFactory, LinearFactory, ExpFactory\n",
    "import cirq\n",
    "frontend=\"cirq\"\n",
    "\n",
    "def execute(circuit, noise_level=0.005):\n",
    "    \"\"\"Returns Tr[ρ |0⟩⟨0|] where ρ is the state prepared by the circuit\n",
    "    with depolarizing noise.\"\"\"\n",
    "\n",
    "    # add depolarizing noise\n",
    "    noisy_circuit = circuit.with_noise(cirq.depolarize(p=noise_level))\n",
    "\n",
    "    return (\n",
    "        cirq.DensityMatrixSimulator()\n",
    "        .simulate(noisy_circuit)\n",
    "        .final_density_matrix[0, 0]\n",
    "        .real\n",
    "    )\n",
    "\n",
    "def execute_no_noise(circuit):\n",
    "    return (\n",
    "        cirq.DensityMatrixSimulator()\n",
    "        .simulate(circuit)\n",
    "        .final_density_matrix[0, 0]\n",
    "        .real\n",
    "    )\n",
    "\n",
    "a, b, c = cirq.LineQubit.range(3)\n",
    "\n",
    "circuit = cirq.Circuit(\n",
    "    cirq.H(a),\n",
    "    cirq.CNOT(a, b),\n",
    "    cirq.CNOT(b, c),\n",
    "    cirq.S(a),\n",
    ")\n",
    "\n",
    "factory = RichardsonFactory([1, 4, 7])\n",
    "factory.run(circuit, execute_no_noise)\n",
    "control = factory.reduce()\n",
    "\n",
    "factory = RichardsonFactory([1, 4, 7])\n",
    "factory.run(circuit, execute)\n",
    "first = factory.reduce()\n",
    "\n",
    "factory = LinearFactory([1, 4, 7])\n",
    "factory.run(circuit, execute)\n",
    "second = factory.reduce()\n",
    "\n",
    "factory = ExpFactory([1, 4, 7])\n",
    "factory.run(circuit, execute)\n",
    "third = factory.reduce()\n",
    "\n",
    "triple_zne = (first + second + third) / 3\n",
    "\n",
    "print(f\"control: {control}\")\n",
    "print(f\"first: {first}\")\n",
    "print(f\"second: {second}\")\n",
    "print(f\"third: {third}\")\n",
    "print(f\"avg: {triple_zne}\")\n",
    "print(f\"error 1 = {abs(control - first)} error 2 = {abs(control - second)} error 3 = {abs(control - third)} error tzne = {abs(control - triple_zne)}\")"
   ]
  },
  {
   "cell_type": "code",
   "execution_count": null,
   "metadata": {},
   "outputs": [],
   "source": [
    "factory.plot_fit()"
   ]
  },
  {
   "cell_type": "markdown",
   "metadata": {},
   "source": [
    "What if we tried the above with a larger circuit i.e. doubling the circuit above up?"
   ]
  },
  {
   "cell_type": "code",
   "execution_count": 16,
   "metadata": {},
   "outputs": [
    {
     "name": "stdout",
     "output_type": "stream",
     "text": [
      "control: 0.24999997019767756\n",
      "first: 0.25063232084115356\n",
      "second: 0.24677690366903943\n",
      "third: 0.25050542210516247\n",
      "avg: 0.24930488220511848\n",
      "error 1 = 0.0006323506434759985 error 2 = 0.00322306652863813 error 3 = 0.0005054519074849106 error tzne = 0.0006950879925590736\n"
     ]
    },
    {
     "name": "stderr",
     "output_type": "stream",
     "text": [
      "c:\\Users\\readi\\AppData\\Local\\Programs\\Python\\Python310\\lib\\site-packages\\scipy\\optimize\\_minpack_py.py:906: ExtrapolationWarning: The extrapolation fit may be ill-conditioned. Likely, more data points are necessary to fit the parameters of the model.\n",
      "  warnings.warn('Covariance of the parameters could not be estimated',\n"
     ]
    }
   ],
   "source": [
    "import mitiq\n",
    "from mitiq.zne.inference import RichardsonFactory, LinearFactory, ExpFactory\n",
    "import cirq\n",
    "frontend=\"cirq\"\n",
    "\n",
    "def execute(circuit, noise_level=0.005):\n",
    "    \"\"\"Returns Tr[ρ |0⟩⟨0|] where ρ is the state prepared by the circuit\n",
    "    with depolarizing noise.\"\"\"\n",
    "\n",
    "    # add depolarizing noise\n",
    "    noisy_circuit = circuit.with_noise(cirq.depolarize(p=noise_level))\n",
    "\n",
    "    return (\n",
    "        cirq.DensityMatrixSimulator()\n",
    "        .simulate(noisy_circuit)\n",
    "        .final_density_matrix[0, 0]\n",
    "        .real\n",
    "    )\n",
    "\n",
    "def execute_no_noise(circuit):\n",
    "    return (\n",
    "        cirq.DensityMatrixSimulator()\n",
    "        .simulate(circuit)\n",
    "        .final_density_matrix[0, 0]\n",
    "        .real\n",
    "    )\n",
    "\n",
    "a, b, c = cirq.LineQubit.range(3)\n",
    "\n",
    "circuit = cirq.Circuit(\n",
    "    cirq.H(a),\n",
    "    cirq.CNOT(a, b),\n",
    "    cirq.CNOT(b, c),\n",
    "    cirq.S(a),\n",
    "    cirq.H(a),\n",
    "    cirq.CNOT(a, b),\n",
    "    cirq.CNOT(b, c),\n",
    "    cirq.S(a),\n",
    ")\n",
    "\n",
    "factory = RichardsonFactory([1, 4, 7])\n",
    "factory.run(circuit, execute_no_noise)\n",
    "control = factory.reduce()\n",
    "\n",
    "factory = RichardsonFactory([1, 4, 7])\n",
    "factory.run(circuit, execute)\n",
    "first = factory.reduce()\n",
    "\n",
    "factory = LinearFactory([1, 4, 7])\n",
    "factory.run(circuit, execute)\n",
    "second = factory.reduce()\n",
    "\n",
    "factory = ExpFactory([1, 4, 7])\n",
    "factory.run(circuit, execute)\n",
    "third = factory.reduce()\n",
    "\n",
    "triple_zne = (first + second + third) / 3\n",
    "\n",
    "print(f\"control: {control}\")\n",
    "print(f\"first: {first}\")\n",
    "print(f\"second: {second}\")\n",
    "print(f\"third: {third}\")\n",
    "print(f\"avg: {triple_zne}\")\n",
    "print(f\"error 1 = {abs(control - first)} error 2 = {abs(control - second)} error 3 = {abs(control - third)} error tzne = {abs(control - triple_zne)}\")"
   ]
  },
  {
   "cell_type": "markdown",
   "metadata": {},
   "source": [
    "How do richardson, exp, and linear compare to just linear?"
   ]
  },
  {
   "cell_type": "code",
   "execution_count": 17,
   "metadata": {},
   "outputs": [
    {
     "name": "stdout",
     "output_type": "stream",
     "text": [
      "control: 0.24999997019767756\n",
      "first: 0.24698526163895917\n",
      "second: 0.24595733483632398\n",
      "third: 0.2463643799225489\n",
      "avg: 0.24643565879927734\n",
      "error 1 = 0.003014708558718382 error 2 = 0.004042635361353575 error 3 = 0.003635590275128664 error tzne = 0.003564311398400216\n"
     ]
    }
   ],
   "source": [
    "import mitiq\n",
    "from mitiq.zne.inference import RichardsonFactory, LinearFactory, ExpFactory\n",
    "import cirq\n",
    "frontend=\"cirq\"\n",
    "\n",
    "def execute(circuit, noise_level=0.005):\n",
    "    \"\"\"Returns Tr[ρ |0⟩⟨0|] where ρ is the state prepared by the circuit\n",
    "    with depolarizing noise.\"\"\"\n",
    "\n",
    "    # add depolarizing noise\n",
    "    noisy_circuit = circuit.with_noise(cirq.depolarize(p=noise_level))\n",
    "\n",
    "    return (\n",
    "        cirq.DensityMatrixSimulator()\n",
    "        .simulate(noisy_circuit)\n",
    "        .final_density_matrix[0, 0]\n",
    "        .real\n",
    "    )\n",
    "\n",
    "def execute_no_noise(circuit):\n",
    "    return (\n",
    "        cirq.DensityMatrixSimulator()\n",
    "        .simulate(circuit)\n",
    "        .final_density_matrix[0, 0]\n",
    "        .real\n",
    "    )\n",
    "\n",
    "a, b, c = cirq.LineQubit.range(3)\n",
    "\n",
    "circuit = cirq.Circuit(\n",
    "    cirq.H(a),\n",
    "    cirq.CNOT(a, b),\n",
    "    cirq.CNOT(b, c),\n",
    "    cirq.S(a),\n",
    "    cirq.H(a),\n",
    "    cirq.CNOT(a, b),\n",
    "    cirq.CNOT(b, c),\n",
    "    cirq.S(a),\n",
    ")\n",
    "\n",
    "factory = LinearFactory([1, 4, 7])\n",
    "factory.run(circuit, execute_no_noise)\n",
    "control = factory.reduce()\n",
    "\n",
    "factory = LinearFactory([1, 4, 7])\n",
    "factory.run(circuit, execute)\n",
    "first = factory.reduce()\n",
    "\n",
    "factory = LinearFactory([1, 4, 7])\n",
    "factory.run(circuit, execute)\n",
    "second = factory.reduce()\n",
    "\n",
    "factory = LinearFactory([1, 4, 7])\n",
    "factory.run(circuit, execute)\n",
    "third = factory.reduce()\n",
    "\n",
    "triple_zne = (first + second + third) / 3\n",
    "\n",
    "print(f\"control: {control}\")\n",
    "print(f\"first: {first}\")\n",
    "print(f\"second: {second}\")\n",
    "print(f\"third: {third}\")\n",
    "print(f\"avg: {triple_zne}\")\n",
    "print(f\"error 1 = {abs(control - first)} error 2 = {abs(control - second)} error 3 = {abs(control - third)} error tzne = {abs(control - triple_zne)}\")"
   ]
  },
  {
   "cell_type": "markdown",
   "metadata": {},
   "source": [
    "DDD with mitiq\n"
   ]
  },
  {
   "cell_type": "code",
   "execution_count": 6,
   "metadata": {},
   "outputs": [
    {
     "data": {
      "text/plain": [
       "0.4451800286769867"
      ]
     },
     "execution_count": 6,
     "metadata": {},
     "output_type": "execute_result"
    }
   ],
   "source": [
    "from mitiq.benchmarks import generate_ghz_circuit\n",
    "from mitiq import ddd\n",
    "\n",
    "\n",
    "num_qubits = 6\n",
    "ghz = generate_ghz_circuit(num_qubits)\n",
    "\n",
    "#print(ghz)\n",
    "ddd.insert_ddd_sequences(ghz, rule=ddd.rules.xx)\n",
    "ddd.execute_with_ddd(ghz, execute, rule=ddd.rules.xx)"
   ]
  },
  {
   "cell_type": "markdown",
   "metadata": {},
   "source": [
    "What about DDD plus ZNE?  What if we triple this up?\n",
    "\n",
    "After testing, it doesn't seem to impart much improvement."
   ]
  },
  {
   "cell_type": "code",
   "execution_count": 23,
   "metadata": {},
   "outputs": [
    {
     "data": {
      "text/plain": [
       "0.2498570270836352"
      ]
     },
     "execution_count": 23,
     "metadata": {},
     "output_type": "execute_result"
    }
   ],
   "source": [
    "from mitiq import zne\n",
    "from mitiq.zne.scaling import fold_global, fold_gates_at_random, insert_id_layers\n",
    "from mitiq import ddd\n",
    "\n",
    "\n",
    "@ddd.ddd_decorator(rule=ddd.rules.xyxy)\n",
    "@zne.zne_decorator(factory=RichardsonFactory([1, 3, 7]), scale_noise=insert_id_layers)\n",
    "def new_execute(circuit):\n",
    "    return execute(circuit)\n",
    "\n",
    "new_execute(circuit)"
   ]
  },
  {
   "cell_type": "code",
   "execution_count": 18,
   "metadata": {},
   "outputs": [
    {
     "name": "stdout",
     "output_type": "stream",
     "text": [
      "control: 0.2499999701976776\n",
      "first: 0.24113260209560394 second: 0.24113260209560394 third: 0.24113260209560394\n",
      "f_error: 0.00886736810207367 s_error: 0.00886736810207367 t_error: 0.00886736810207367\n",
      "triple_zne: 0.2411325971285502 t_zne error: 0.00886737306912741\n",
      "first: 0.22524039447307587 second: 0.22524039447307587 third: 0.22524039447307587\n",
      "f_error: 0.024759575724601746 s_error: 0.024759575724601746 t_error: 0.024759575724601746\n",
      "triple_zne: 0.22524038950602213 t_zne error: 0.024759580691655486\n",
      "first: 0.1996825486421585 second: 0.1996825486421585 third: 0.1996825486421585\n",
      "f_error: 0.050317421555519104 s_error: 0.050317421555519104 t_error: 0.050317421555519104\n",
      "triple_zne: 0.19968255360921225 t_zne error: 0.050317416588465363\n"
     ]
    },
    {
     "data": {
      "text/plain": [
       "0.24985702335834478"
      ]
     },
     "execution_count": 18,
     "metadata": {},
     "output_type": "execute_result"
    }
   ],
   "source": [
    "import cirq\n",
    "from mitiq import zne\n",
    "from mitiq import ddd\n",
    "from mitiq.zne.inference import RichardsonFactory\n",
    "from mitiq.zne.scaling import fold_global, fold_gates_at_random, insert_id_layers\n",
    "\n",
    "\n",
    "a, b, c = cirq.LineQubit.range(3)\n",
    "circuit = cirq.Circuit(\n",
    "    cirq.H(a),\n",
    "    cirq.CNOT(a, b),\n",
    "    cirq.CNOT(b, c),\n",
    "    cirq.S(a),\n",
    "    cirq.H(a),\n",
    "    cirq.CNOT(a, b),\n",
    "    cirq.CNOT(b, c),\n",
    "    cirq.S(a),\n",
    ")\n",
    "\n",
    "control = execute_no_noise(circuit)\n",
    "print(f\"control: {control}\")\n",
    "\n",
    "@ddd.ddd_decorator(rule=ddd.rules.xyxy)\n",
    "@zne.zne_decorator(factory=RichardsonFactory([1, 3, 7]), scale_noise=insert_id_layers)\n",
    "def new_execute(circuit):\n",
    "    first = execute(circuit)\n",
    "    second = execute(circuit)\n",
    "    third = execute(circuit)\n",
    "\n",
    "    triple_zne = (first + second + third) / 3\n",
    "\n",
    "    print(f\"first: {first} second: {second} third: {third}\")\n",
    "    print(f\"f_error: {abs(first - control)} s_error: {abs(second - control)} t_error: {abs(third - control)}\")\n",
    "    print(f\"triple_zne: {triple_zne} t_zne error: {abs(triple_zne - control)}\")\n",
    "\n",
    "    return (first + second + third) / 3\n",
    "\n",
    "new_execute(circuit)"
   ]
  }
 ],
 "metadata": {
  "kernelspec": {
   "display_name": "Python 3",
   "language": "python",
   "name": "python3"
  },
  "language_info": {
   "codemirror_mode": {
    "name": "ipython",
    "version": 3
   },
   "file_extension": ".py",
   "mimetype": "text/x-python",
   "name": "python",
   "nbconvert_exporter": "python",
   "pygments_lexer": "ipython3",
   "version": "3.10.8"
  }
 },
 "nbformat": 4,
 "nbformat_minor": 2
}
